{
  "nbformat": 4,
  "nbformat_minor": 0,
  "metadata": {
    "colab": {
      "name": "Alliefiandi Satriawan_1101174300_PathLossModel.ipynb",
      "provenance": [],
      "collapsed_sections": [],
      "authorship_tag": "ABX9TyOQPQrkawoFRUESKKId3N7W",
      "include_colab_link": true
    },
    "kernelspec": {
      "name": "python3",
      "display_name": "Python 3"
    }
  },
  "cells": [
    {
      "cell_type": "markdown",
      "metadata": {
        "id": "view-in-github",
        "colab_type": "text"
      },
      "source": [
        "<a href=\"https://colab.research.google.com/github/alliefiandis/PathLossModel/blob/main/Alliefiandi_Satriawan_1101174300_PathLossModel.ipynb\" target=\"_parent\"><img src=\"https://colab.research.google.com/assets/colab-badge.svg\" alt=\"Open In Colab\"/></a>"
      ]
    },
    {
      "cell_type": "markdown",
      "metadata": {
        "id": "dZAK2MKLkhHr"
      },
      "source": [
        "**Name**: Alliefiandi Satriawan\r\n",
        ">\r\n",
        "**NIM**: 1101174300"
      ]
    },
    {
      "cell_type": "code",
      "metadata": {
        "id": "nUwi8-I_Ic_F"
      },
      "source": [
        "import numpy as np"
      ],
      "execution_count": null,
      "outputs": []
    },
    {
      "cell_type": "markdown",
      "metadata": {
        "id": "HhwfFJbykxEu"
      },
      "source": [
        "NtL = Numeric to Logarithmic\r\n",
        ">\r\n",
        "LtN = Logarithmic to Numeric"
      ]
    },
    {
      "cell_type": "code",
      "metadata": {
        "id": "DFShH_9vIskr"
      },
      "source": [
        "NtL= lambda x: 10*np.log10(x)"
      ],
      "execution_count": null,
      "outputs": []
    },
    {
      "cell_type": "code",
      "metadata": {
        "id": "gauezDdgIuom"
      },
      "source": [
        "LtN= lambda x: 10**(x/10)"
      ],
      "execution_count": null,
      "outputs": []
    },
    {
      "cell_type": "code",
      "metadata": {
        "id": "hyP28o6afUMQ"
      },
      "source": [
        "#C1 and C2 values varies according to the frequency (fc)\r\n",
        "def valueC(fc):\r\n",
        "  if (fc>=400 or fc<=1500):\r\n",
        "    c1 = 69.55\r\n",
        "    c2 = 26.16 \r\n",
        "    return c1,c2\r\n",
        "  else:\r\n",
        "    if (fc>1500 or fc<=2000):\r\n",
        "      c1 = 46.3 \r\n",
        "      c2 = 33.9\r\n",
        "      return c1,c2"
      ],
      "execution_count": null,
      "outputs": []
    },
    {
      "cell_type": "code",
      "metadata": {
        "colab": {
          "base_uri": "https://localhost:8080/"
        },
        "id": "lufUkf6oyr5d",
        "outputId": "2c26a54f-2cfb-40a8-cfd4-621a841bca22"
      },
      "source": [
        "C1,C2 = valueC(1000)\r\n",
        "print(\"c1 = \",C1)\r\n",
        "print(\"c2 = \",C2)"
      ],
      "execution_count": null,
      "outputs": [
        {
          "output_type": "stream",
          "text": [
            "c1 =  69.55\n",
            "c2 =  26.16\n"
          ],
          "name": "stdout"
        }
      ]
    },
    {
      "cell_type": "markdown",
      "metadata": {
        "id": "NaLzb0thh7VF"
      },
      "source": [
        "The Value of **$a(h_R)$** can be calculated using the formula \r\n",
        "$a(h_R) = [1.1 log (f_c) - 0.7]h_R - [1.56log(f_c) - 0.8]$"
      ]
    },
    {
      "cell_type": "code",
      "metadata": {
        "id": "D_FDg2x3fUoM"
      },
      "source": [
        "def valueA(fc,hr):\r\n",
        "  ahr = (1.1*np.log10(fc)-0.7)*hr - (1.56*np.log10(fc)-0.8)\r\n",
        "  return ahr"
      ],
      "execution_count": null,
      "outputs": []
    },
    {
      "cell_type": "code",
      "metadata": {
        "colab": {
          "base_uri": "https://localhost:8080/"
        },
        "id": "RlzBMi2VzsOE",
        "outputId": "4c8ec5b3-bfcb-48de-f981-da6e855cf144"
      },
      "source": [
        "AHR= valueA(1000,10)\r\n",
        "print(\"ahr = \",AHR)"
      ],
      "execution_count": null,
      "outputs": [
        {
          "output_type": "stream",
          "text": [
            "ahr =  22.120000000000008\n"
          ],
          "name": "stdout"
        }
      ]
    },
    {
      "cell_type": "markdown",
      "metadata": {
        "id": "NOaruEgujQ2a"
      },
      "source": [
        "Value of $C_m$ depends on the area such as: \r\n",
        ">\r\n",
        "Urban area, $C_m = 0$ \r\n",
        ">\r\n",
        "Suburban area, $C_m = -2[log(fc/28)]^2 -5.4$ \r\n",
        ">\r\n",
        "Open Area, $C_m = -4.78[log(fc)]^2 + 18.33log(fc) - 40.94$\r\n"
      ]
    },
    {
      "cell_type": "code",
      "metadata": {
        "id": "l6vnLY9gkdMP"
      },
      "source": [
        "def valueCM(area,fc):\r\n",
        "  if area =='urban':\r\n",
        "    cm=0\r\n",
        "    return cm\r\n",
        "  else:\r\n",
        "    if area =='suburban':\r\n",
        "      cm= -2*np.log10(fc)**2 - 5.4\r\n",
        "      return cm\r\n",
        "    else:\r\n",
        "      if area =='open':\r\n",
        "        cm= (-4.78*np.log10(fc)**2)+(18.33*np.log10(fc))-40.94\r\n",
        "      return cm"
      ],
      "execution_count": null,
      "outputs": []
    },
    {
      "cell_type": "code",
      "metadata": {
        "colab": {
          "base_uri": "https://localhost:8080/"
        },
        "id": "1z235KQ43TZr",
        "outputId": "ccbca8a4-9057-470f-a775-7f809c362631"
      },
      "source": [
        "CM=valueCM(\"open\",1000)\r\n",
        "print(\"cm= \",CM)"
      ],
      "execution_count": null,
      "outputs": [
        {
          "output_type": "stream",
          "text": [
            "cm=  -28.970000000000006\n"
          ],
          "name": "stdout"
        }
      ]
    },
    {
      "cell_type": "markdown",
      "metadata": {
        "id": "BI-dTVcRmw54"
      },
      "source": [
        "**Cost 231 Pathloss Model**\r\n",
        ">\r\n",
        "$L_P=C_1 + C_2log(f_c)-13.83log(h_\\tau)-a(h_R) +[44.9-6.55log(h_\\tau)]log(d)+C_m$"
      ]
    },
    {
      "cell_type": "code",
      "metadata": {
        "id": "poHbABtuIwNM"
      },
      "source": [
        "def ploss(d,fc,area,ht,hr):\r\n",
        "  #Calculate Pathloss\r\n",
        "  Lp = C1 + (C2*np.log10(fc)) - (13.83*np.log10(ht)) - AHR + (44.9 - (6.55*np.log10(ht)))*(np.log10(d)) + CM\r\n",
        "  #Convert to dB\r\n",
        "  Lpdb = NtL(Lp)\r\n",
        "  return Lp,Lpdb"
      ],
      "execution_count": null,
      "outputs": []
    },
    {
      "cell_type": "code",
      "metadata": {
        "colab": {
          "base_uri": "https://localhost:8080/"
        },
        "id": "AXUBrN5HsP5R",
        "outputId": "dc8300ef-db85-48ae-ee44-47c97ba9c5de"
      },
      "source": [
        "PathLoss,PathLossdb = ploss(7,1000,\"open\",50,20)\r\n",
        "print(\"The Path Loss is \",PathLoss,\"Watt\")\r\n",
        "print(\"The Path Loss is \",PathLossdb,\"dB\")"
      ],
      "execution_count": null,
      "outputs": [
        {
          "output_type": "stream",
          "text": [
            "The Path Loss is  101.98368159103964 Watt\n",
            "The Path Loss is  20.085306858606458 dB\n"
          ],
          "name": "stdout"
        }
      ]
    }
  ]
}